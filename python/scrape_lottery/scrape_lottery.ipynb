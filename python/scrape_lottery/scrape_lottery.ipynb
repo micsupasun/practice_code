{
  "nbformat": 4,
  "nbformat_minor": 0,
  "metadata": {
    "colab": {
      "provenance": []
    },
    "kernelspec": {
      "name": "python3",
      "display_name": "Python 3"
    }
  },
  "cells": [
    {
      "cell_type": "markdown",
      "metadata": {
        "id": "ILz6wN2CUch7"
      },
      "source": [
        "จาก [post นี้](https://www.facebook.com/ta.chiraphadhanakul/posts/10158937922963278) และดึงข้อมูลตาม [youtube](https://youtu.be/1_bfkE_jqmM?t=653)"
      ]
    },
    {
      "cell_type": "code",
      "metadata": {
        "id": "79sZmxb_X9hV"
      },
      "source": [
        "import re\n",
        "import pandas as pd\n",
        "from collections import Counter\n",
        "from requests import get"
      ],
      "execution_count": null,
      "outputs": []
    },
    {
      "cell_type": "code",
      "metadata": {
        "id": "4wKkuExuVCnX"
      },
      "source": [
        "!pip install kora -q\n",
        "from kora.bs import Soup  # BeautifulSoup แบบใช้ง่าย"
      ],
      "execution_count": null,
      "outputs": []
    },
    {
      "cell_type": "code",
      "metadata": {
        "id": "1gcYImjpTTQk"
      },
      "source": [
        "url = \"https://www.myhora.com/หวย/สถิติหวย-ปี-2561.aspx?mode=year&value=2561\""
      ],
      "execution_count": null,
      "outputs": []
    },
    {
      "cell_type": "code",
      "metadata": {
        "id": "7TdDTz0LU7ak",
        "colab": {
          "base_uri": "https://localhost:8080/",
          "height": 35
        },
        "outputId": "502bef9f-b02d-43ab-823d-052e7316daf3"
      },
      "source": [
        "src = get(url).text\n",
        "len(src)"
      ],
      "execution_count": null,
      "outputs": [
        {
          "output_type": "execute_result",
          "data": {
            "text/plain": [
              "369863"
            ]
          },
          "metadata": {
            "tags": []
          },
          "execution_count": 118
        }
      ]
    },
    {
      "cell_type": "code",
      "metadata": {
        "id": "JV7U4c4nVBEr"
      },
      "source": [
        "soup = Soup(src)"
      ],
      "execution_count": null,
      "outputs": []
    },
    {
      "cell_type": "code",
      "metadata": {
        "id": "anhe2ATtVpIp",
        "colab": {
          "base_uri": "https://localhost:8080/",
          "height": 35
        },
        "outputId": "d209ab8e-f65a-4c23-84a4-cebed2b4580c"
      },
      "source": [
        "rows = soup.select(\".rowx.div_link\")\n",
        "len(rows)"
      ],
      "execution_count": null,
      "outputs": [
        {
          "output_type": "execute_result",
          "data": {
            "text/plain": [
              "24"
            ]
          },
          "metadata": {
            "tags": []
          },
          "execution_count": 119
        }
      ]
    },
    {
      "cell_type": "code",
      "metadata": {
        "id": "q3XQEU8RV0cM",
        "colab": {
          "base_uri": "https://localhost:8080/",
          "height": 289
        },
        "outputId": "30b71f20-b1ef-45df-fa59-e91ef0cf20b8"
      },
      "source": [
        "row = rows[0]\n",
        "row"
      ],
      "execution_count": null,
      "outputs": [
        {
          "output_type": "execute_result",
          "data": {
            "text/plain": [
              "<div class=\"rowx div_link\" onclick=\"window.open('%e0%b8%87%e0%b8%a7%e0%b8%94-30-%e0%b8%98%e0%b8%b1%e0%b8%99%e0%b8%a7%e0%b8%b2%e0%b8%84%e0%b8%a1-2561.aspx','_blank');\" style=\"height:25px;padding-top:8px;width:100%; cursor:pointer;\" title=\"ใบตรวจหวย ตรวจสลากกินแบ่งรัฐบาล ลอตเตอรี่ งวดวันที่  30 ธันวาคม 2561\">\n",
              "<div class=\"rowx-item\" style=\"width:5%;margin-left:5px;\"> 30 </div>\n",
              "<div class=\"rowx-item mobile-hide\" style=\"width:12%\"> ธันวาคม </div>\n",
              "<div class=\"rowx-item mobile-show\" style=\"width:12%\"> ธ.ค. </div>\n",
              "<div class=\"rowx-item mobile-hide\" style=\"width:7%\"> 2561 </div>\n",
              "<div class=\"rowx-item mobile-show\" style=\"width:7%\"> 61 </div>\n",
              "<div class=\"rowx-item rowhld\" style=\"width:17%;text-align:center\">735867</div>\n",
              "<div class=\"rowx-item rowhld mobile-hide\" style=\"width:6%;text-align:center\">67</div>\n",
              "<div class=\"rowx-item rowhld mobile-hide\" style=\"width:9%;text-align:center\">867</div>\n",
              "<div class=\"rowx-item rowhld mobile-hide\" style=\"width:7%;text-align:center\">02</div>\n",
              "<div class=\"rowx-item rowhld mobile-hide\" style=\"width:32%;\"> <u>031</u> <u>913</u> 701 884</div>\n",
              "<div class=\"rowx-item rowhld mobile-show\" style=\"width:12%;text-align:center\">02</div>\n",
              "<div class=\"rowx-item rowhld mobile-show\" style=\"width:42%;\"> <u>031</u> <u>913</u> 701 884</div>\n",
              "</div>"
            ]
          },
          "metadata": {
            "tags": []
          },
          "execution_count": 120
        }
      ]
    },
    {
      "cell_type": "code",
      "metadata": {
        "id": "Y-NQmFboWx0b",
        "colab": {
          "base_uri": "https://localhost:8080/",
          "height": 233
        },
        "outputId": "93e2b2e7-eeaa-43b7-fac9-629b812005ec"
      },
      "source": [
        "cols = [x.text.strip() for x in row.select('div')]\n",
        "cols"
      ],
      "execution_count": null,
      "outputs": [
        {
          "output_type": "execute_result",
          "data": {
            "text/plain": [
              "['30',\n",
              " 'ธันวาคม',\n",
              " 'ธ.ค.',\n",
              " '2561',\n",
              " '61',\n",
              " '735867',\n",
              " '67',\n",
              " '867',\n",
              " '02',\n",
              " '031 913 701 884',\n",
              " '02',\n",
              " '031 913 701 884']"
            ]
          },
          "metadata": {
            "tags": []
          },
          "execution_count": 121
        }
      ]
    },
    {
      "cell_type": "code",
      "metadata": {
        "id": "sIqAnrB0Vutf"
      },
      "source": [
        "# เขียนเป็น function ละกัน\n",
        "def get_year(year):\n",
        "  url = f\"https://www.myhora.com/หวย/สถิติหวย-ปี-{year}.aspx?mode=year&value={year}\"\n",
        "  rows = Soup(url).select(\".rowx.div_link\")\n",
        "  data = []\n",
        "  for row in rows:\n",
        "    cols = row.select('div')[:9]  # เอาหลักๆ พอ\n",
        "    data.append([x.text.strip() for x in cols])\n",
        "  return data"
      ],
      "execution_count": null,
      "outputs": []
    },
    {
      "cell_type": "code",
      "metadata": {
        "id": "7VpmOfppYAmA",
        "colab": {
          "base_uri": "https://localhost:8080/",
          "height": 35
        },
        "outputId": "881877f5-8df2-45fc-fd04-132b05ceda38"
      },
      "source": [
        "# ลองเรียกใช้ดู\n",
        "data = get_year(2561)\n",
        "len(data)  # 24\n",
        "data[0]"
      ],
      "execution_count": null,
      "outputs": [
        {
          "output_type": "execute_result",
          "data": {
            "text/plain": [
              "['30', 'ธันวาคม', 'ธ.ค.', '2561', '61', '735867', '67', '867', '02']"
            ]
          },
          "metadata": {
            "tags": []
          },
          "execution_count": 123
        }
      ]
    },
    {
      "cell_type": "code",
      "metadata": {
        "id": "uDNtc1bPYOPu",
        "colab": {
          "base_uri": "https://localhost:8080/",
          "height": 35
        },
        "outputId": "9c821ac8-2ba6-413a-9349-8d87d6e03f0e"
      },
      "source": [
        "data[1]"
      ],
      "execution_count": null,
      "outputs": [
        {
          "output_type": "execute_result",
          "data": {
            "text/plain": [
              "['16', 'ธันวาคม', 'ธ.ค.', '2561', '61', '356564', '64', '564', '62']"
            ]
          },
          "metadata": {
            "tags": []
          },
          "execution_count": 124
        }
      ]
    },
    {
      "cell_type": "code",
      "metadata": {
        "id": "7TWNZQJtYCNG",
        "colab": {
          "base_uri": "https://localhost:8080/",
          "height": 206
        },
        "outputId": "edb85760-fcb7-409a-d6d7-704c059c1a38"
      },
      "source": [
        "columns = ['day', 'month', 'mo', 'year', 'yr', 'first', 'high2', 'high3', 'low2' ]\n",
        "df = pd.DataFrame(data, columns=columns)\n",
        "df.head()"
      ],
      "execution_count": null,
      "outputs": [
        {
          "output_type": "execute_result",
          "data": {
            "text/html": [
              "<div>\n",
              "<style scoped>\n",
              "    .dataframe tbody tr th:only-of-type {\n",
              "        vertical-align: middle;\n",
              "    }\n",
              "\n",
              "    .dataframe tbody tr th {\n",
              "        vertical-align: top;\n",
              "    }\n",
              "\n",
              "    .dataframe thead th {\n",
              "        text-align: right;\n",
              "    }\n",
              "</style>\n",
              "<table border=\"1\" class=\"dataframe\">\n",
              "  <thead>\n",
              "    <tr style=\"text-align: right;\">\n",
              "      <th></th>\n",
              "      <th>day</th>\n",
              "      <th>month</th>\n",
              "      <th>mo</th>\n",
              "      <th>year</th>\n",
              "      <th>yr</th>\n",
              "      <th>first</th>\n",
              "      <th>high2</th>\n",
              "      <th>high3</th>\n",
              "      <th>low2</th>\n",
              "    </tr>\n",
              "  </thead>\n",
              "  <tbody>\n",
              "    <tr>\n",
              "      <th>0</th>\n",
              "      <td>30</td>\n",
              "      <td>ธันวาคม</td>\n",
              "      <td>ธ.ค.</td>\n",
              "      <td>2561</td>\n",
              "      <td>61</td>\n",
              "      <td>735867</td>\n",
              "      <td>67</td>\n",
              "      <td>867</td>\n",
              "      <td>02</td>\n",
              "    </tr>\n",
              "    <tr>\n",
              "      <th>1</th>\n",
              "      <td>16</td>\n",
              "      <td>ธันวาคม</td>\n",
              "      <td>ธ.ค.</td>\n",
              "      <td>2561</td>\n",
              "      <td>61</td>\n",
              "      <td>356564</td>\n",
              "      <td>64</td>\n",
              "      <td>564</td>\n",
              "      <td>62</td>\n",
              "    </tr>\n",
              "    <tr>\n",
              "      <th>2</th>\n",
              "      <td>1</td>\n",
              "      <td>ธันวาคม</td>\n",
              "      <td>ธ.ค.</td>\n",
              "      <td>2561</td>\n",
              "      <td>61</td>\n",
              "      <td>021840</td>\n",
              "      <td>40</td>\n",
              "      <td>840</td>\n",
              "      <td>67</td>\n",
              "    </tr>\n",
              "    <tr>\n",
              "      <th>3</th>\n",
              "      <td>16</td>\n",
              "      <td>พฤศจิกายน</td>\n",
              "      <td>พ.ย.</td>\n",
              "      <td>2561</td>\n",
              "      <td>61</td>\n",
              "      <td>989903</td>\n",
              "      <td>03</td>\n",
              "      <td>903</td>\n",
              "      <td>16</td>\n",
              "    </tr>\n",
              "    <tr>\n",
              "      <th>4</th>\n",
              "      <td>1</td>\n",
              "      <td>พฤศจิกายน</td>\n",
              "      <td>พ.ย.</td>\n",
              "      <td>2561</td>\n",
              "      <td>61</td>\n",
              "      <td>149840</td>\n",
              "      <td>40</td>\n",
              "      <td>840</td>\n",
              "      <td>58</td>\n",
              "    </tr>\n",
              "  </tbody>\n",
              "</table>\n",
              "</div>"
            ],
            "text/plain": [
              "  day      month    mo  year  yr   first high2 high3 low2\n",
              "0  30    ธันวาคม  ธ.ค.  2561  61  735867    67   867   02\n",
              "1  16    ธันวาคม  ธ.ค.  2561  61  356564    64   564   62\n",
              "2   1    ธันวาคม  ธ.ค.  2561  61  021840    40   840   67\n",
              "3  16  พฤศจิกายน  พ.ย.  2561  61  989903    03   903   16\n",
              "4   1  พฤศจิกายน  พ.ย.  2561  61  149840    40   840   58"
            ]
          },
          "metadata": {
            "tags": []
          },
          "execution_count": 125
        }
      ]
    },
    {
      "cell_type": "code",
      "metadata": {
        "id": "lJbBK1qvZU6G"
      },
      "source": [
        "# น่าเปลี่ยน index เป็น date ไปเลย จะได้ query ได้ง่ายๆ"
      ],
      "execution_count": null,
      "outputs": []
    },
    {
      "cell_type": "code",
      "metadata": {
        "id": "_xq4H_Voaebq",
        "colab": {
          "base_uri": "https://localhost:8080/",
          "height": 36
        },
        "outputId": "33215d8d-26b3-4b02-9401-442a3a8157f3"
      },
      "source": [
        "day = 30\n",
        "month = 'ธันวาคม'\n",
        "mo = 'ธ.ค.'\n",
        "year = 2561\n",
        "months = 'x ม.ค. ก.พ. มี.ค. เม.ย. พ.ค. มิ.ย. ก.ค. ส.ค. ก.ย. ต.ค. พ.ย. ธ.ค.'.split()\n",
        "m = months.index(mo)\n",
        "y = int(year) - 543\n",
        "f'{y}-{m:02}-{day}'"
      ],
      "execution_count": null,
      "outputs": [
        {
          "output_type": "execute_result",
          "data": {
            "application/vnd.google.colaboratory.intrinsic+json": {
              "type": "string"
            },
            "text/plain": [
              "'2018-12-30'"
            ]
          },
          "metadata": {
            "tags": []
          },
          "execution_count": 126
        }
      ]
    },
    {
      "cell_type": "code",
      "metadata": {
        "id": "rEWlv42bb-PF",
        "colab": {
          "base_uri": "https://localhost:8080/",
          "height": 36
        },
        "outputId": "5a26c2e5-5ffd-45a0-8639-d76951b46834"
      },
      "source": [
        "months = '''x มกราคม กุมภาพันธ์ มีนาคม เมษายน พฤษภาคม มิถุนายน กรกฎาคม สิงหาคม\n",
        "            กันยายน ตุลาคม พฤศจิกายน ธันวาคม'''.split()\n",
        "\n",
        "def datestr(day, month, tyear):\n",
        "  #months = 'x ม.ค. ก.พ. มี.ค. เม.ย. พ.ค. มิ.ย. ก.ค. ส.ค. ก.ย. ต.ค. พ.ย. ธ.ค.'.split()\n",
        "  d = int(day)\n",
        "  m = months.index(month)\n",
        "  y = int(tyear) - 543\n",
        "  return f'{y}-{m:02}-{d:02}'\n",
        "\n",
        "datestr(day, month, year)"
      ],
      "execution_count": null,
      "outputs": [
        {
          "output_type": "execute_result",
          "data": {
            "application/vnd.google.colaboratory.intrinsic+json": {
              "type": "string"
            },
            "text/plain": [
              "'2018-12-30'"
            ]
          },
          "metadata": {
            "tags": []
          },
          "execution_count": 128
        }
      ]
    },
    {
      "cell_type": "code",
      "metadata": {
        "id": "d-3OpxTKbOmV"
      },
      "source": [
        "def extract_row(row):\n",
        "  cols = [x.text.strip() for x in row.select('div')[:9]]\n",
        "  dstr = datestr(cols[0], cols[1], cols[3])\n",
        "  return [dstr, *cols]"
      ],
      "execution_count": null,
      "outputs": []
    },
    {
      "cell_type": "code",
      "metadata": {
        "id": "IK1_-KFqc46C",
        "colab": {
          "base_uri": "https://localhost:8080/",
          "height": 197
        },
        "outputId": "061f9813-3277-42e0-cbf6-164876913f16"
      },
      "source": [
        "extract_row(row)"
      ],
      "execution_count": null,
      "outputs": [
        {
          "output_type": "execute_result",
          "data": {
            "text/plain": [
              "['2018-12-30',\n",
              " '30',\n",
              " 'ธันวาคม',\n",
              " 'ธ.ค.',\n",
              " '2561',\n",
              " '61',\n",
              " '735867',\n",
              " '67',\n",
              " '867',\n",
              " '02']"
            ]
          },
          "metadata": {
            "tags": []
          },
          "execution_count": 129
        }
      ]
    },
    {
      "cell_type": "code",
      "metadata": {
        "id": "TUOAEheWc6WH"
      },
      "source": [
        "# แก้ get_year ใหม่\n",
        "def get_year(year):\n",
        "  url = f\"https://www.myhora.com/หวย/สถิติหวย-ปี-{year}.aspx?mode=year&value={year}\"\n",
        "  rows = Soup(url).select(\".rowx.div_link\")\n",
        "  return list(map(extract_row, rows))"
      ],
      "execution_count": null,
      "outputs": []
    },
    {
      "cell_type": "code",
      "metadata": {
        "id": "In3rc8padRdx",
        "colab": {
          "base_uri": "https://localhost:8080/",
          "height": 197
        },
        "outputId": "ca2159fb-ba34-4669-fb33-c9312f9a2a3c"
      },
      "source": [
        "data = get_year(2561)\n",
        "data[0]"
      ],
      "execution_count": null,
      "outputs": [
        {
          "output_type": "execute_result",
          "data": {
            "text/plain": [
              "['2018-12-30',\n",
              " '30',\n",
              " 'ธันวาคม',\n",
              " 'ธ.ค.',\n",
              " '2561',\n",
              " '61',\n",
              " '735867',\n",
              " '67',\n",
              " '867',\n",
              " '02']"
            ]
          },
          "metadata": {
            "tags": []
          },
          "execution_count": 131
        }
      ]
    },
    {
      "cell_type": "code",
      "metadata": {
        "id": "GX9g3sP0dUia",
        "colab": {
          "base_uri": "https://localhost:8080/",
          "height": 237
        },
        "outputId": "37c5ead0-a16e-44e5-bd47-f77199bd5240"
      },
      "source": [
        "columns = ['dstr', 'day', 'month', 'mo', 'year', 'yr', 'first', 'high2', 'high3', 'low2' ]\n",
        "df = pd.DataFrame(data, columns=columns).set_index('dstr')\n",
        "df.head()"
      ],
      "execution_count": null,
      "outputs": [
        {
          "output_type": "execute_result",
          "data": {
            "text/html": [
              "<div>\n",
              "<style scoped>\n",
              "    .dataframe tbody tr th:only-of-type {\n",
              "        vertical-align: middle;\n",
              "    }\n",
              "\n",
              "    .dataframe tbody tr th {\n",
              "        vertical-align: top;\n",
              "    }\n",
              "\n",
              "    .dataframe thead th {\n",
              "        text-align: right;\n",
              "    }\n",
              "</style>\n",
              "<table border=\"1\" class=\"dataframe\">\n",
              "  <thead>\n",
              "    <tr style=\"text-align: right;\">\n",
              "      <th></th>\n",
              "      <th>day</th>\n",
              "      <th>month</th>\n",
              "      <th>mo</th>\n",
              "      <th>year</th>\n",
              "      <th>yr</th>\n",
              "      <th>first</th>\n",
              "      <th>high2</th>\n",
              "      <th>high3</th>\n",
              "      <th>low2</th>\n",
              "    </tr>\n",
              "    <tr>\n",
              "      <th>dstr</th>\n",
              "      <th></th>\n",
              "      <th></th>\n",
              "      <th></th>\n",
              "      <th></th>\n",
              "      <th></th>\n",
              "      <th></th>\n",
              "      <th></th>\n",
              "      <th></th>\n",
              "      <th></th>\n",
              "    </tr>\n",
              "  </thead>\n",
              "  <tbody>\n",
              "    <tr>\n",
              "      <th>2018-12-30</th>\n",
              "      <td>30</td>\n",
              "      <td>ธันวาคม</td>\n",
              "      <td>ธ.ค.</td>\n",
              "      <td>2561</td>\n",
              "      <td>61</td>\n",
              "      <td>735867</td>\n",
              "      <td>67</td>\n",
              "      <td>867</td>\n",
              "      <td>02</td>\n",
              "    </tr>\n",
              "    <tr>\n",
              "      <th>2018-12-16</th>\n",
              "      <td>16</td>\n",
              "      <td>ธันวาคม</td>\n",
              "      <td>ธ.ค.</td>\n",
              "      <td>2561</td>\n",
              "      <td>61</td>\n",
              "      <td>356564</td>\n",
              "      <td>64</td>\n",
              "      <td>564</td>\n",
              "      <td>62</td>\n",
              "    </tr>\n",
              "    <tr>\n",
              "      <th>2018-12-01</th>\n",
              "      <td>1</td>\n",
              "      <td>ธันวาคม</td>\n",
              "      <td>ธ.ค.</td>\n",
              "      <td>2561</td>\n",
              "      <td>61</td>\n",
              "      <td>021840</td>\n",
              "      <td>40</td>\n",
              "      <td>840</td>\n",
              "      <td>67</td>\n",
              "    </tr>\n",
              "    <tr>\n",
              "      <th>2018-11-16</th>\n",
              "      <td>16</td>\n",
              "      <td>พฤศจิกายน</td>\n",
              "      <td>พ.ย.</td>\n",
              "      <td>2561</td>\n",
              "      <td>61</td>\n",
              "      <td>989903</td>\n",
              "      <td>03</td>\n",
              "      <td>903</td>\n",
              "      <td>16</td>\n",
              "    </tr>\n",
              "    <tr>\n",
              "      <th>2018-11-01</th>\n",
              "      <td>1</td>\n",
              "      <td>พฤศจิกายน</td>\n",
              "      <td>พ.ย.</td>\n",
              "      <td>2561</td>\n",
              "      <td>61</td>\n",
              "      <td>149840</td>\n",
              "      <td>40</td>\n",
              "      <td>840</td>\n",
              "      <td>58</td>\n",
              "    </tr>\n",
              "  </tbody>\n",
              "</table>\n",
              "</div>"
            ],
            "text/plain": [
              "           day      month    mo  year  yr   first high2 high3 low2\n",
              "dstr                                                              \n",
              "2018-12-30  30    ธันวาคม  ธ.ค.  2561  61  735867    67   867   02\n",
              "2018-12-16  16    ธันวาคม  ธ.ค.  2561  61  356564    64   564   62\n",
              "2018-12-01   1    ธันวาคม  ธ.ค.  2561  61  021840    40   840   67\n",
              "2018-11-16  16  พฤศจิกายน  พ.ย.  2561  61  989903    03   903   16\n",
              "2018-11-01   1  พฤศจิกายน  พ.ย.  2561  61  149840    40   840   58"
            ]
          },
          "metadata": {
            "tags": []
          },
          "execution_count": 132
        }
      ]
    },
    {
      "cell_type": "code",
      "metadata": {
        "id": "DexmGZplewWo"
      },
      "source": [
        "y2data = {}  # ทำทีละปี เผื่อมี error"
      ],
      "execution_count": null,
      "outputs": []
    },
    {
      "cell_type": "code",
      "metadata": {
        "id": "0UWQ3GNPfgBu",
        "colab": {
          "base_uri": "https://localhost:8080/",
          "height": 35
        },
        "outputId": "14363b62-6eae-48f7-989b-2e133d795a99"
      },
      "source": [
        "# ดึงมาทั้ง 30 ปี\n",
        "for y in range(2533, 2563+1):\n",
        "  print(y-2500, end=',')\n",
        "  y2data[y] = get_year(y)"
      ],
      "execution_count": null,
      "outputs": [
        {
          "output_type": "stream",
          "text": [
            "33,34,35,36,37,38,39,40,41,42,43,44,45,46,47,48,49,50,51,52,53,54,55,56,57,58,59,60,61,62,63,"
          ],
          "name": "stdout"
        }
      ]
    },
    {
      "cell_type": "code",
      "metadata": {
        "id": "9FijBbLPfvty",
        "colab": {
          "base_uri": "https://localhost:8080/",
          "height": 35
        },
        "outputId": "2f4878bb-e269-4b16-ba59-acf3015fdf4d"
      },
      "source": [
        "data = []\n",
        "for y in range(2533, 2563+1):\n",
        "  data.extend(y2data[y])\n",
        "len(data)"
      ],
      "execution_count": null,
      "outputs": [
        {
          "output_type": "execute_result",
          "data": {
            "text/plain": [
              "733"
            ]
          },
          "metadata": {
            "tags": []
          },
          "execution_count": 135
        }
      ]
    },
    {
      "cell_type": "code",
      "metadata": {
        "id": "RZ-vg-11gKOs",
        "colab": {
          "base_uri": "https://localhost:8080/",
          "height": 255
        },
        "outputId": "4deac0b5-0e3b-459b-d511-a61810dfb8d3"
      },
      "source": [
        "df = (pd.DataFrame(data, columns=columns)\n",
        "        .set_index('dstr')\n",
        "        .sort_index(ascending=False)\n",
        ")\n",
        "print(df.shape)\n",
        "df.head()"
      ],
      "execution_count": null,
      "outputs": [
        {
          "output_type": "stream",
          "text": [
            "(733, 9)\n"
          ],
          "name": "stdout"
        },
        {
          "output_type": "execute_result",
          "data": {
            "text/html": [
              "<div>\n",
              "<style scoped>\n",
              "    .dataframe tbody tr th:only-of-type {\n",
              "        vertical-align: middle;\n",
              "    }\n",
              "\n",
              "    .dataframe tbody tr th {\n",
              "        vertical-align: top;\n",
              "    }\n",
              "\n",
              "    .dataframe thead th {\n",
              "        text-align: right;\n",
              "    }\n",
              "</style>\n",
              "<table border=\"1\" class=\"dataframe\">\n",
              "  <thead>\n",
              "    <tr style=\"text-align: right;\">\n",
              "      <th></th>\n",
              "      <th>day</th>\n",
              "      <th>month</th>\n",
              "      <th>mo</th>\n",
              "      <th>year</th>\n",
              "      <th>yr</th>\n",
              "      <th>first</th>\n",
              "      <th>high2</th>\n",
              "      <th>high3</th>\n",
              "      <th>low2</th>\n",
              "    </tr>\n",
              "    <tr>\n",
              "      <th>dstr</th>\n",
              "      <th></th>\n",
              "      <th></th>\n",
              "      <th></th>\n",
              "      <th></th>\n",
              "      <th></th>\n",
              "      <th></th>\n",
              "      <th></th>\n",
              "      <th></th>\n",
              "      <th></th>\n",
              "    </tr>\n",
              "  </thead>\n",
              "  <tbody>\n",
              "    <tr>\n",
              "      <th>2020-09-01</th>\n",
              "      <td>1</td>\n",
              "      <td>กันยายน</td>\n",
              "      <td>ก.ย.</td>\n",
              "      <td>2563</td>\n",
              "      <td>63</td>\n",
              "      <td>999997</td>\n",
              "      <td>97</td>\n",
              "      <td>997</td>\n",
              "      <td>98</td>\n",
              "    </tr>\n",
              "    <tr>\n",
              "      <th>2020-08-16</th>\n",
              "      <td>16</td>\n",
              "      <td>สิงหาคม</td>\n",
              "      <td>ส.ค.</td>\n",
              "      <td>2563</td>\n",
              "      <td>63</td>\n",
              "      <td>945811</td>\n",
              "      <td>11</td>\n",
              "      <td>811</td>\n",
              "      <td>88</td>\n",
              "    </tr>\n",
              "    <tr>\n",
              "      <th>2020-08-01</th>\n",
              "      <td>1</td>\n",
              "      <td>สิงหาคม</td>\n",
              "      <td>ส.ค.</td>\n",
              "      <td>2563</td>\n",
              "      <td>63</td>\n",
              "      <td>569391</td>\n",
              "      <td>91</td>\n",
              "      <td>391</td>\n",
              "      <td>92</td>\n",
              "    </tr>\n",
              "    <tr>\n",
              "      <th>2020-07-16</th>\n",
              "      <td>16</td>\n",
              "      <td>กรกฎาคม</td>\n",
              "      <td>ก.ค.</td>\n",
              "      <td>2563</td>\n",
              "      <td>63</td>\n",
              "      <td>873286</td>\n",
              "      <td>86</td>\n",
              "      <td>286</td>\n",
              "      <td>53</td>\n",
              "    </tr>\n",
              "    <tr>\n",
              "      <th>2020-07-01</th>\n",
              "      <td>1</td>\n",
              "      <td>กรกฎาคม</td>\n",
              "      <td>ก.ค.</td>\n",
              "      <td>2563</td>\n",
              "      <td>63</td>\n",
              "      <td>347258</td>\n",
              "      <td>58</td>\n",
              "      <td>258</td>\n",
              "      <td>83</td>\n",
              "    </tr>\n",
              "  </tbody>\n",
              "</table>\n",
              "</div>"
            ],
            "text/plain": [
              "           day    month    mo  year  yr   first high2 high3 low2\n",
              "dstr                                                            \n",
              "2020-09-01   1  กันยายน  ก.ย.  2563  63  999997    97   997   98\n",
              "2020-08-16  16  สิงหาคม  ส.ค.  2563  63  945811    11   811   88\n",
              "2020-08-01   1  สิงหาคม  ส.ค.  2563  63  569391    91   391   92\n",
              "2020-07-16  16  กรกฎาคม  ก.ค.  2563  63  873286    86   286   53\n",
              "2020-07-01   1  กรกฎาคม  ก.ค.  2563  63  347258    58   258   83"
            ]
          },
          "metadata": {
            "tags": []
          },
          "execution_count": 136
        }
      ]
    },
    {
      "cell_type": "code",
      "metadata": {
        "id": "9Ba7VdK3hQr1",
        "colab": {
          "base_uri": "https://localhost:8080/",
          "height": 265
        },
        "outputId": "0eb1a4f3-5e1b-4f82-fe21-a25459a25c05"
      },
      "source": [
        "# กระจายของเลขท้าย 2 ตัวบน\n",
        "df.high2.astype(int).plot.hist();"
      ],
      "execution_count": null,
      "outputs": [
        {
          "output_type": "display_data",
          "data": {
            "image/png": "[encoded data removed]",
            "text/plain": [
              "<Figure size 432x288 with 1 Axes>"
            ]
          },
          "metadata": {
            "tags": [],
            "needs_background": "light"
          }
        }
      ]
    },
    {
      "cell_type": "code",
      "metadata": {
        "id": "EYa7YF1ogO28",
        "colab": {
          "base_uri": "https://localhost:8080/",
          "height": 35
        },
        "outputId": "d2ee3d49-148d-4f9e-8979-5c93df3ee889"
      },
      "source": [
        "# เตรียม data เรียบร้อยซะที. ทำมาตั้งเยอะ แต่ใช้แค่รางวัลที่ 1\n",
        "numbers = list(df['first'])\n",
        "len(numbers)"
      ],
      "execution_count": null,
      "outputs": [
        {
          "output_type": "execute_result",
          "data": {
            "text/plain": [
              "733"
            ]
          },
          "metadata": {
            "tags": []
          },
          "execution_count": 138
        }
      ]
    },
    {
      "cell_type": "code",
      "metadata": {
        "id": "UU13IFUWgosR",
        "colab": {
          "base_uri": "https://localhost:8080/",
          "height": 35
        },
        "outputId": "84b62b1f-3394-4d84-a863-1babdc94cc5d"
      },
      "source": [
        "numbers[:5]"
      ],
      "execution_count": null,
      "outputs": [
        {
          "output_type": "execute_result",
          "data": {
            "text/plain": [
              "['999997', '945811', '569391', '873286', '347258']"
            ]
          },
          "metadata": {
            "tags": []
          },
          "execution_count": 139
        }
      ]
    },
    {
      "cell_type": "code",
      "metadata": {
        "id": "gB9uLzmHgz3I",
        "colab": {
          "base_uri": "https://localhost:8080/",
          "height": 35
        },
        "outputId": "727af22b-3d32-4103-859b-62f8dbebc10f"
      },
      "source": [
        "# คำนวณ ว่าซ้ำกี่ตัว\n",
        "num = '945811'\n",
        "prev = ''\n",
        "n_rep = [1,1,1,1,1,1]\n",
        "for i, c in enumerate(num):\n",
        "  if c==prev:\n",
        "    n_rep[i] = n_rep[i-1] + 1\n",
        "  prev = c\n",
        "max(n_rep)"
      ],
      "execution_count": null,
      "outputs": [
        {
          "output_type": "execute_result",
          "data": {
            "text/plain": [
              "2"
            ]
          },
          "metadata": {
            "tags": []
          },
          "execution_count": 140
        }
      ]
    },
    {
      "cell_type": "code",
      "metadata": {
        "id": "bE70dCuijNxe"
      },
      "source": [
        "# สร้างเป็น function\n",
        "def count_repeat(num):\n",
        "  \"\"\" นับตัวที่ซ้ำ แต่ต้องอยู่ติดกันนะ \"\"\"\n",
        "  prev = ''\n",
        "  n_rep = [1]*len(num)\n",
        "  for i, c in enumerate(num):\n",
        "    if c==prev:\n",
        "      n_rep[i] = n_rep[i-1] + 1\n",
        "    prev = c\n",
        "  return max(n_rep)"
      ],
      "execution_count": null,
      "outputs": []
    },
    {
      "cell_type": "code",
      "metadata": {
        "id": "UM8D6xTSjXPs",
        "colab": {
          "base_uri": "https://localhost:8080/",
          "height": 35
        },
        "outputId": "25020ad9-babe-4c46-8396-91c7de9220da"
      },
      "source": [
        "count_repeat('99999') # 5\n",
        "count_repeat('44999') # 3\n",
        "count_repeat('44912') # 2\n",
        "count_repeat('945811') # 2\n",
        "count_repeat('999997') # 5"
      ],
      "execution_count": null,
      "outputs": [
        {
          "output_type": "execute_result",
          "data": {
            "text/plain": [
              "5"
            ]
          },
          "metadata": {
            "tags": []
          },
          "execution_count": 146
        }
      ]
    },
    {
      "cell_type": "code",
      "metadata": {
        "id": "LjgKDDsgF9Oa",
        "colab": {
          "base_uri": "https://localhost:8080/",
          "height": 35
        },
        "outputId": "ac533e84-7df3-44ac-ded9-7752353486d5"
      },
      "source": [
        "# หรือถ้าใช้ regex\n",
        "max(len(m[1]) for m in re.finditer(r'((\\d)\\2+)', '999997'))"
      ],
      "execution_count": null,
      "outputs": [
        {
          "output_type": "execute_result",
          "data": {
            "text/plain": [
              "5"
            ]
          },
          "metadata": {
            "tags": []
          },
          "execution_count": 147
        }
      ]
    },
    {
      "cell_type": "code",
      "metadata": {
        "id": "W9nA3kxpjhWh",
        "colab": {
          "base_uri": "https://localhost:8080/",
          "height": 35
        },
        "outputId": "316d1b44-453b-450d-f183-3e0e6173b550"
      },
      "source": [
        "Counter(map(count_repeat, numbers))  # ครั้งเดียวใน 30 ปี ที่มีซ้ำ 5 ตัว"
      ],
      "execution_count": null,
      "outputs": [
        {
          "output_type": "execute_result",
          "data": {
            "text/plain": [
              "Counter({1: 415, 2: 288, 3: 25, 4: 4, 5: 1})"
            ]
          },
          "metadata": {
            "tags": []
          },
          "execution_count": 148
        }
      ]
    },
    {
      "cell_type": "code",
      "metadata": {
        "id": "j0pChftDkDKT"
      },
      "source": [
        "# ใส่ใน dataframe ดีกว่าจะได้ดูง่ายๆ\n",
        "df['repeat'] = df['first'].map(count_repeat)"
      ],
      "execution_count": null,
      "outputs": []
    },
    {
      "cell_type": "code",
      "metadata": {
        "id": "pWdjJ1mid5or",
        "colab": {
          "base_uri": "https://localhost:8080/",
          "height": 237
        },
        "outputId": "acde33a3-f9f5-4b23-b107-763851c566a0"
      },
      "source": [
        "df.head()"
      ],
      "execution_count": null,
      "outputs": [
        {
          "output_type": "execute_result",
          "data": {
            "text/html": [
              "<div>\n",
              "<style scoped>\n",
              "    .dataframe tbody tr th:only-of-type {\n",
              "        vertical-align: middle;\n",
              "    }\n",
              "\n",
              "    .dataframe tbody tr th {\n",
              "        vertical-align: top;\n",
              "    }\n",
              "\n",
              "    .dataframe thead th {\n",
              "        text-align: right;\n",
              "    }\n",
              "</style>\n",
              "<table border=\"1\" class=\"dataframe\">\n",
              "  <thead>\n",
              "    <tr style=\"text-align: right;\">\n",
              "      <th></th>\n",
              "      <th>day</th>\n",
              "      <th>month</th>\n",
              "      <th>mo</th>\n",
              "      <th>year</th>\n",
              "      <th>yr</th>\n",
              "      <th>first</th>\n",
              "      <th>high2</th>\n",
              "      <th>high3</th>\n",
              "      <th>low2</th>\n",
              "      <th>repeat</th>\n",
              "    </tr>\n",
              "    <tr>\n",
              "      <th>dstr</th>\n",
              "      <th></th>\n",
              "      <th></th>\n",
              "      <th></th>\n",
              "      <th></th>\n",
              "      <th></th>\n",
              "      <th></th>\n",
              "      <th></th>\n",
              "      <th></th>\n",
              "      <th></th>\n",
              "      <th></th>\n",
              "    </tr>\n",
              "  </thead>\n",
              "  <tbody>\n",
              "    <tr>\n",
              "      <th>2020-09-01</th>\n",
              "      <td>1</td>\n",
              "      <td>กันยายน</td>\n",
              "      <td>ก.ย.</td>\n",
              "      <td>2563</td>\n",
              "      <td>63</td>\n",
              "      <td>999997</td>\n",
              "      <td>97</td>\n",
              "      <td>997</td>\n",
              "      <td>98</td>\n",
              "      <td>5</td>\n",
              "    </tr>\n",
              "    <tr>\n",
              "      <th>2020-08-16</th>\n",
              "      <td>16</td>\n",
              "      <td>สิงหาคม</td>\n",
              "      <td>ส.ค.</td>\n",
              "      <td>2563</td>\n",
              "      <td>63</td>\n",
              "      <td>945811</td>\n",
              "      <td>11</td>\n",
              "      <td>811</td>\n",
              "      <td>88</td>\n",
              "      <td>2</td>\n",
              "    </tr>\n",
              "    <tr>\n",
              "      <th>2020-08-01</th>\n",
              "      <td>1</td>\n",
              "      <td>สิงหาคม</td>\n",
              "      <td>ส.ค.</td>\n",
              "      <td>2563</td>\n",
              "      <td>63</td>\n",
              "      <td>569391</td>\n",
              "      <td>91</td>\n",
              "      <td>391</td>\n",
              "      <td>92</td>\n",
              "      <td>1</td>\n",
              "    </tr>\n",
              "    <tr>\n",
              "      <th>2020-07-16</th>\n",
              "      <td>16</td>\n",
              "      <td>กรกฎาคม</td>\n",
              "      <td>ก.ค.</td>\n",
              "      <td>2563</td>\n",
              "      <td>63</td>\n",
              "      <td>873286</td>\n",
              "      <td>86</td>\n",
              "      <td>286</td>\n",
              "      <td>53</td>\n",
              "      <td>1</td>\n",
              "    </tr>\n",
              "    <tr>\n",
              "      <th>2020-07-01</th>\n",
              "      <td>1</td>\n",
              "      <td>กรกฎาคม</td>\n",
              "      <td>ก.ค.</td>\n",
              "      <td>2563</td>\n",
              "      <td>63</td>\n",
              "      <td>347258</td>\n",
              "      <td>58</td>\n",
              "      <td>258</td>\n",
              "      <td>83</td>\n",
              "      <td>1</td>\n",
              "    </tr>\n",
              "  </tbody>\n",
              "</table>\n",
              "</div>"
            ],
            "text/plain": [
              "           day    month    mo  year  yr   first high2 high3 low2  repeat\n",
              "dstr                                                                    \n",
              "2020-09-01   1  กันยายน  ก.ย.  2563  63  999997    97   997   98       5\n",
              "2020-08-16  16  สิงหาคม  ส.ค.  2563  63  945811    11   811   88       2\n",
              "2020-08-01   1  สิงหาคม  ส.ค.  2563  63  569391    91   391   92       1\n",
              "2020-07-16  16  กรกฎาคม  ก.ค.  2563  63  873286    86   286   53       1\n",
              "2020-07-01   1  กรกฎาคม  ก.ค.  2563  63  347258    58   258   83       1"
            ]
          },
          "metadata": {
            "tags": []
          },
          "execution_count": 151
        }
      ]
    },
    {
      "cell_type": "code",
      "metadata": {
        "id": "VH5RipV3k01z"
      },
      "source": [
        "# df.index.name = None  # ให้ประหยัดที่ capture"
      ],
      "execution_count": null,
      "outputs": []
    },
    {
      "cell_type": "code",
      "metadata": {
        "id": "SaLOmWkikUp7",
        "colab": {
          "base_uri": "https://localhost:8080/",
          "height": 112
        },
        "outputId": "a3a33714-998b-4c2f-91cd-b3ba0264df73"
      },
      "source": [
        "df[df.repeat==5]  # เมื่อไหร่ที่ซ้ำ 5 ตัว"
      ],
      "execution_count": null,
      "outputs": [
        {
          "output_type": "execute_result",
          "data": {
            "text/html": [
              "<div>\n",
              "<style scoped>\n",
              "    .dataframe tbody tr th:only-of-type {\n",
              "        vertical-align: middle;\n",
              "    }\n",
              "\n",
              "    .dataframe tbody tr th {\n",
              "        vertical-align: top;\n",
              "    }\n",
              "\n",
              "    .dataframe thead th {\n",
              "        text-align: right;\n",
              "    }\n",
              "</style>\n",
              "<table border=\"1\" class=\"dataframe\">\n",
              "  <thead>\n",
              "    <tr style=\"text-align: right;\">\n",
              "      <th></th>\n",
              "      <th>day</th>\n",
              "      <th>month</th>\n",
              "      <th>mo</th>\n",
              "      <th>year</th>\n",
              "      <th>yr</th>\n",
              "      <th>first</th>\n",
              "      <th>high2</th>\n",
              "      <th>high3</th>\n",
              "      <th>low2</th>\n",
              "      <th>repeat</th>\n",
              "    </tr>\n",
              "    <tr>\n",
              "      <th>dstr</th>\n",
              "      <th></th>\n",
              "      <th></th>\n",
              "      <th></th>\n",
              "      <th></th>\n",
              "      <th></th>\n",
              "      <th></th>\n",
              "      <th></th>\n",
              "      <th></th>\n",
              "      <th></th>\n",
              "      <th></th>\n",
              "    </tr>\n",
              "  </thead>\n",
              "  <tbody>\n",
              "    <tr>\n",
              "      <th>2020-09-01</th>\n",
              "      <td>1</td>\n",
              "      <td>กันยายน</td>\n",
              "      <td>ก.ย.</td>\n",
              "      <td>2563</td>\n",
              "      <td>63</td>\n",
              "      <td>999997</td>\n",
              "      <td>97</td>\n",
              "      <td>997</td>\n",
              "      <td>98</td>\n",
              "      <td>5</td>\n",
              "    </tr>\n",
              "  </tbody>\n",
              "</table>\n",
              "</div>"
            ],
            "text/plain": [
              "           day    month    mo  year  yr   first high2 high3 low2  repeat\n",
              "dstr                                                                    \n",
              "2020-09-01   1  กันยายน  ก.ย.  2563  63  999997    97   997   98       5"
            ]
          },
          "metadata": {
            "tags": []
          },
          "execution_count": 152
        }
      ]
    },
    {
      "cell_type": "code",
      "metadata": {
        "id": "vDaAQ9qIkjU4",
        "colab": {
          "base_uri": "https://localhost:8080/",
          "height": 206
        },
        "outputId": "cf34dae3-9b8b-4b51-e513-abf641eff9f4"
      },
      "source": [
        "df[df.repeat==4] # เมื่อไหร่ที่ซ้ำ 4 ตัว"
      ],
      "execution_count": null,
      "outputs": [
        {
          "output_type": "execute_result",
          "data": {
            "text/html": [
              "<div>\n",
              "<style scoped>\n",
              "    .dataframe tbody tr th:only-of-type {\n",
              "        vertical-align: middle;\n",
              "    }\n",
              "\n",
              "    .dataframe tbody tr th {\n",
              "        vertical-align: top;\n",
              "    }\n",
              "\n",
              "    .dataframe thead th {\n",
              "        text-align: right;\n",
              "    }\n",
              "</style>\n",
              "<table border=\"1\" class=\"dataframe\">\n",
              "  <thead>\n",
              "    <tr style=\"text-align: right;\">\n",
              "      <th></th>\n",
              "      <th>day</th>\n",
              "      <th>month</th>\n",
              "      <th>mo</th>\n",
              "      <th>year</th>\n",
              "      <th>yr</th>\n",
              "      <th>first</th>\n",
              "      <th>high2</th>\n",
              "      <th>high3</th>\n",
              "      <th>low2</th>\n",
              "      <th>repeat</th>\n",
              "    </tr>\n",
              "    <tr>\n",
              "      <th>dstr</th>\n",
              "      <th></th>\n",
              "      <th></th>\n",
              "      <th></th>\n",
              "      <th></th>\n",
              "      <th></th>\n",
              "      <th></th>\n",
              "      <th></th>\n",
              "      <th></th>\n",
              "      <th></th>\n",
              "      <th></th>\n",
              "    </tr>\n",
              "  </thead>\n",
              "  <tbody>\n",
              "    <tr>\n",
              "      <th>2015-06-02</th>\n",
              "      <td>2</td>\n",
              "      <td>มิถุนายน</td>\n",
              "      <td>มิ.ย</td>\n",
              "      <td>2558</td>\n",
              "      <td>58</td>\n",
              "      <td>388881</td>\n",
              "      <td>81</td>\n",
              "      <td>881</td>\n",
              "      <td>65</td>\n",
              "      <td>4</td>\n",
              "    </tr>\n",
              "    <tr>\n",
              "      <th>2011-11-16</th>\n",
              "      <td>16</td>\n",
              "      <td>พฤศจิกายน</td>\n",
              "      <td>พ.ย.</td>\n",
              "      <td>2554</td>\n",
              "      <td>54</td>\n",
              "      <td>997777</td>\n",
              "      <td>77</td>\n",
              "      <td>777</td>\n",
              "      <td>57</td>\n",
              "      <td>4</td>\n",
              "    </tr>\n",
              "    <tr>\n",
              "      <th>1998-07-16</th>\n",
              "      <td>16</td>\n",
              "      <td>กรกฎาคม</td>\n",
              "      <td>ก.ค.</td>\n",
              "      <td>2541</td>\n",
              "      <td>41</td>\n",
              "      <td>599991</td>\n",
              "      <td>91</td>\n",
              "      <td>991</td>\n",
              "      <td>52</td>\n",
              "      <td>4</td>\n",
              "    </tr>\n",
              "    <tr>\n",
              "      <th>1997-10-01</th>\n",
              "      <td>1</td>\n",
              "      <td>ตุลาคม</td>\n",
              "      <td>ต.ค.</td>\n",
              "      <td>2540</td>\n",
              "      <td>40</td>\n",
              "      <td>444413</td>\n",
              "      <td>13</td>\n",
              "      <td>413</td>\n",
              "      <td>24</td>\n",
              "      <td>4</td>\n",
              "    </tr>\n",
              "  </tbody>\n",
              "</table>\n",
              "</div>"
            ],
            "text/plain": [
              "           day      month    mo  year  yr   first high2 high3 low2  repeat\n",
              "dstr                                                                      \n",
              "2015-06-02   2   มิถุนายน  มิ.ย  2558  58  388881    81   881   65       4\n",
              "2011-11-16  16  พฤศจิกายน  พ.ย.  2554  54  997777    77   777   57       4\n",
              "1998-07-16  16    กรกฎาคม  ก.ค.  2541  41  599991    91   991   52       4\n",
              "1997-10-01   1     ตุลาคม  ต.ค.  2540  40  444413    13   413   24       4"
            ]
          },
          "metadata": {
            "tags": []
          },
          "execution_count": 153
        }
      ]
    },
    {
      "cell_type": "code",
      "metadata": {
        "id": "9AXDdEJulRdz",
        "colab": {
          "base_uri": "https://localhost:8080/",
          "height": 125
        },
        "outputId": "c3c3673e-d9db-492d-bca0-b69f757dc047"
      },
      "source": [
        "df.repeat.value_counts()  # สูตรคำนวน อาจจะต่างจากต้าหน่อย"
      ],
      "execution_count": null,
      "outputs": [
        {
          "output_type": "execute_result",
          "data": {
            "text/plain": [
              "1    415\n",
              "2    288\n",
              "3     25\n",
              "4      4\n",
              "5      1\n",
              "Name: repeat, dtype: int64"
            ]
          },
          "metadata": {
            "tags": []
          },
          "execution_count": 154
        }
      ]
    },
    {
      "cell_type": "code",
      "metadata": {
        "id": "6ldxa-bekram",
        "colab": {
          "base_uri": "https://localhost:8080/",
          "height": 265
        },
        "outputId": "c5893700-3e0f-46a8-ff89-a5c25f5d2241"
      },
      "source": [
        "df.repeat.plot.hist(bins=5);"
      ],
      "execution_count": null,
      "outputs": [
        {
          "output_type": "display_data",
          "data": {
            "image/png": "[encoded data removed]",
            "text/plain": [
              "<Figure size 432x288 with 1 Axes>"
            ]
          },
          "metadata": {
            "tags": [],
            "needs_background": "light"
          }
        }
      ]
    },
    {
      "cell_type": "code",
      "metadata": {
        "id": "wLTkypNFlGHs"
      },
      "source": [
        "# ตรวจว่า regex ก็คำนวณถูก\n",
        "for num in df['first']:\n",
        "  rp = max(len(m[1]) for m in re.finditer(r'((\\d)\\2*)', num))\n",
        "  assert count_repeat(num)==rp"
      ],
      "execution_count": null,
      "outputs": []
    },
    {
      "cell_type": "code",
      "metadata": {
        "id": "uf8diJMNJA5Y"
      },
      "source": [
        "df.index.name = 'dstr'  # ใส่คืน"
      ],
      "execution_count": null,
      "outputs": []
    },
    {
      "cell_type": "code",
      "metadata": {
        "id": "OsoAUjTtGwij"
      },
      "source": [
        "# เก็บ df ไว้ใช้ จะได้ไม่ต้องมา scrape ทุกรอบ\n",
        "df.to_csv('thai_lottery.csv')"
      ],
      "execution_count": null,
      "outputs": []
    },
    {
      "cell_type": "code",
      "metadata": {
        "id": "dNalIM7YH3mN",
        "colab": {
          "base_uri": "https://localhost:8080/",
          "height": 36
        },
        "outputId": "57fdd4d4-f381-43ae-ace2-9b28a919cd6d"
      },
      "source": [
        "from kora import drive\n",
        "drive.upload_public('thai_lottery.csv')  # ส่งขึ้น google drive ง่ายๆ เลย"
      ],
      "execution_count": null,
      "outputs": [
        {
          "output_type": "execute_result",
          "data": {
            "application/vnd.google.colaboratory.intrinsic+json": {
              "type": "string"
            },
            "text/plain": [
              "'https://drive.google.com/uc?id=1Jt86RNveKPAJdJKUpEHNXutyCt7H73Cc'"
            ]
          },
          "metadata": {
            "tags": []
          },
          "execution_count": 111
        }
      ]
    },
    {
      "cell_type": "code",
      "metadata": {
        "id": "_lTKCUxHH_R3",
        "colab": {
          "base_uri": "https://localhost:8080/",
          "height": 197
        },
        "outputId": "82b32269-edc4-4eb0-a62e-b75accdfc15f"
      },
      "source": [
        "!head thai_lottery.csv"
      ],
      "execution_count": null,
      "outputs": [
        {
          "output_type": "stream",
          "text": [
            "dstr,day,month,mo,year,yr,first,high2,high3,low2,repeat\n",
            "2020-09-01,1,กันยายน,ก.ย.,2563,63,999997,97,997,98,5\n",
            "2020-08-16,16,สิงหาคม,ส.ค.,2563,63,945811,11,811,88,2\n",
            "2020-08-01,1,สิงหาคม,ส.ค.,2563,63,569391,91,391,92,1\n",
            "2020-07-16,16,กรกฎาคม,ก.ค.,2563,63,873286,86,286,53,1\n",
            "2020-07-01,1,กรกฎาคม,ก.ค.,2563,63,347258,58,258,83,1\n",
            "2020-06-16,16,มิถุนายน,มิ.ย,2563,63,516967,67,967,64,1\n",
            "2020-06-01,1,มิถุนายน,มิ.ย,2563,63,831567,67,567,24,1\n",
            "2020-04-01,1,เมษายน,เม.ย.,2563,63,051095,95,095,22,1\n",
            "2020-03-16,16,มีนาคม,มี.ค.,2563,63,503446,46,446,77,2\n"
          ],
          "name": "stdout"
        }
      ]
    }
  ]
}